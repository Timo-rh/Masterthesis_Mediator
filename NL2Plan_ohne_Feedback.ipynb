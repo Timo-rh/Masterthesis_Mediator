{
 "cells": [
  {
   "metadata": {},
   "cell_type": "markdown",
   "source": "#### Setup",
   "id": "3b058143cd70c1aa"
  },
  {
   "cell_type": "code",
   "id": "initial_id",
   "metadata": {
    "collapsed": true,
    "ExecuteTime": {
     "end_time": "2025-05-09T13:25:50.474240Z",
     "start_time": "2025-05-09T13:25:47.874459Z"
    }
   },
   "source": [
    "from langchain_openai import ChatOpenAI\n",
    "\n",
    "llm = ChatOpenAI(model=\"gpt-3.5-turbo\", temperature=0)#, max_tokens=20)\n",
    "\n",
    "invoke = llm.invoke(\"hello, how are you?\")\n",
    "\n",
    "content_output = invoke.content\n",
    "print(content_output)"
   ],
   "outputs": [
    {
     "name": "stdout",
     "output_type": "stream",
     "text": [
      "Hello! I'm just a computer program, so I don't have feelings, but I'm here to help you. How can I assist you today?\n"
     ]
    }
   ],
   "execution_count": 7
  },
  {
   "metadata": {},
   "cell_type": "markdown",
   "source": "#### Grundlegende Chain",
   "id": "a492983a22cad42a"
  },
  {
   "metadata": {},
   "cell_type": "code",
   "outputs": [],
   "execution_count": null,
   "source": [
    "from langchain.chains import ChatPromptTemplate\n",
    "\n",
    "prompt = ChatPromptTemplate.from_messages([(\"human\", \"Hello, how are you?\")])\n",
    "\n",
    "chain = prompt | llm | output_type_extraction | llm | output_hierarchy_construction | llm | ...."
   ],
   "id": "e69cf4a3472b5479"
  }
 ],
 "metadata": {
  "kernelspec": {
   "display_name": "Python 3",
   "language": "python",
   "name": "python3"
  },
  "language_info": {
   "codemirror_mode": {
    "name": "ipython",
    "version": 2
   },
   "file_extension": ".py",
   "mimetype": "text/x-python",
   "name": "python",
   "nbconvert_exporter": "python",
   "pygments_lexer": "ipython2",
   "version": "2.7.6"
  }
 },
 "nbformat": 4,
 "nbformat_minor": 5
}
